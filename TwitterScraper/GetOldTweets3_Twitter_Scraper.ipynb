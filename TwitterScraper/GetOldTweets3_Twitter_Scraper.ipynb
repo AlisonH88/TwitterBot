{
 "cells": [
  {
   "cell_type": "markdown",
   "metadata": {
    "colab_type": "text",
    "id": "3MDPXp5-X80r"
   },
   "source": [
    "# Scraper for Twitter using GetOldTweets3\n",
    "\n",
    "Package: https://github.com/Mottl/GetOldTweets3\n",
    "\n",
    "### Notebook Author: Martin Beck"
   ]
  },
  {
   "cell_type": "code",
   "execution_count": 1,
   "metadata": {
    "colab": {
     "base_uri": "https://localhost:8080/",
     "height": 1000
    },
    "colab_type": "code",
    "id": "vp7x7kWeYABh",
    "outputId": "af1a20c2-2262-47f8-e27f-90076bd7860b",
    "scrolled": true
   },
   "outputs": [],
   "source": [
    "# Pip install GetOldTweets3 if you don't already have the package\n",
    "# !pip install GetOldTweets3\n",
    "\n",
    "# Imports\n",
    "import GetOldTweets3 as got\n",
    "import pandas as pd"
   ]
  },
  {
   "cell_type": "markdown",
   "metadata": {
    "colab_type": "text",
    "id": "he3accCbyaWG"
   },
   "source": [
    "## Query by Username\n",
    "Creation of queries using GetOldTweets3"
   ]
  },
  {
   "cell_type": "code",
   "execution_count": 0,
   "metadata": {
    "colab": {},
    "colab_type": "code",
    "id": "54rhT5wfZVXD"
   },
   "outputs": [],
   "source": [
    "# Function the pulls tweets from a specific username and turns to csv file\n",
    "\n",
    "# Parameters: (list of twitter usernames), (max number of most recent tweets to pull from)\n",
    "def username_tweets_to_csv(usernamelist, max_tweets):\n",
    "  for username in usernamelist:\n",
    "    # Pulls in tweets from user, and sets max amount of tweets to pull\n",
    "    tweetCriteria = got.manager.TweetCriteria().setUsername(username)\\\n",
    "                                            .setMaxTweets(max_tweets)\n",
    "    # Creation of list that contains all tweets\n",
    "    tweets = got.manager.TweetManager.getTweets(tweetCriteria)\n",
    "\n",
    "    # Pull tweet information and creating list of date and text to prep for df\n",
    "    tweets_information = [[tweet.date, tweet.text, tweet.geo] for tweet in tweets]\n",
    "\n",
    "    # Creation of new df to easily get all information from tweets_information\n",
    "    tweets_df = pd.DataFrame(tweets_information, columns = ['date', 'tweets', 'geo'])\n",
    "\n",
    "    # Converting tweets dataframe to csv file\n",
    "    tweets_df.to_csv('{}-{}k-tweets.csv'.format(username, int(max_tweets/1000)), sep=',')"
   ]
  },
  {
   "cell_type": "markdown",
   "metadata": {
    "colab_type": "text",
    "id": "G7r4McYgyoQy"
   },
   "source": [
    "## Query by Text Search"
   ]
  },
  {
   "cell_type": "code",
   "execution_count": 0,
   "metadata": {
    "colab": {},
    "colab_type": "code",
    "id": "JSjpix_9A5e6"
   },
   "outputs": [],
   "source": [
    "# Function that pulls tweets based on a general search query and turns to csv file\n",
    "\n",
    "# Parameters: (text query you want to search), (max number of most recent tweets to pull from)\n",
    "def text_query_to_csv(text_query, max_tweets):\n",
    "  # Creation of query object\n",
    "  tweetQuery = got.manager.TweetCriteria().setQuerySearch()\\\n",
    "                                                .setMaxTweets(max_tweets)\n",
    "  # Grabs tweet from the query object\n",
    "  testTweet = got.manager.TweetManager.getTweets(tweetQuery)\n",
    "\n",
    "  # Pulls tweet data from all tweets\n",
    "  testInformation = [[tweet.date, tweet.text, tweet.geo] for tweet in testTweet]\n",
    "  \n",
    "  # Creation of dataframe from tweets\n",
    "  test_df = pd.DataFrame(testInformation, columns = ['Datetime', 'Text', 'geo'])\n",
    "  \n",
    "  # Converting tweets dataframe to csv file\n",
    "  tweets_df.to_csv('{}-{}k-tweets.csv'.format(text_query, int(max_tweets/1000)), sep=',')"
   ]
  },
  {
   "cell_type": "markdown",
   "metadata": {
    "colab_type": "text",
    "id": "wWyvF9CQykPz"
   },
   "source": [
    "## Query Function Calls\n",
    "Putting it all together and using functions created."
   ]
  },
  {
   "cell_type": "code",
   "execution_count": 0,
   "metadata": {
    "colab": {},
    "colab_type": "code",
    "id": "CQpGem-crZoX"
   },
   "outputs": [],
   "source": [
    "# Input username(s) to scrape tweets and name csv file\n",
    "# Max recent tweets pulls x amount of most recent tweets from that user\n",
    "usernames = ['example1','example2']\n",
    "max_recent_tweets = 10000"
   ]
  },
  {
   "cell_type": "code",
   "execution_count": 0,
   "metadata": {
    "colab": {},
    "colab_type": "code",
    "id": "kQfm6LdhZafM"
   },
   "outputs": [],
   "source": [
    "# Calling function to turn username's past x amount of tweets into a CSV file\n",
    "username_tweets_to_csv(usernames,max_recent_tweets)"
   ]
  },
  {
   "cell_type": "code",
   "execution_count": 0,
   "metadata": {
    "colab": {},
    "colab_type": "code",
    "id": "8Cj2Ajfu1XGK"
   },
   "outputs": [],
   "source": [
    "# Input search query to scrape tweets and name csv file\n",
    "# Max recent tweets pulls x amount of most recent tweets from that user\n",
    "text_query = 'USA Election 2020'\n",
    "max_recent_tweets = 5000"
   ]
  },
  {
   "cell_type": "code",
   "execution_count": 0,
   "metadata": {
    "colab": {},
    "colab_type": "code",
    "id": "k3xppry-1XM0"
   },
   "outputs": [],
   "source": [
    "# Calling function to query X amount of relevant tweets and create a CSV file\n",
    "text_query_to_csv(text_query, max_recent_tweets)"
   ]
  }
 ],
 "metadata": {
  "colab": {
   "collapsed_sections": [],
   "name": "GetOldTweets3 Twitter Scraper",
   "provenance": []
  },
  "kernelspec": {
   "display_name": "Python 3",
   "language": "python",
   "name": "python3"
  },
  "language_info": {
   "codemirror_mode": {
    "name": "ipython",
    "version": 3
   },
   "file_extension": ".py",
   "mimetype": "text/x-python",
   "name": "python",
   "nbconvert_exporter": "python",
   "pygments_lexer": "ipython3",
   "version": "3.7.3"
  }
 },
 "nbformat": 4,
 "nbformat_minor": 1
}
